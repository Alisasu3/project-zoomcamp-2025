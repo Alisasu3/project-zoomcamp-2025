{
 "cells": [
  {
   "cell_type": "code",
   "execution_count": 1,
   "id": "564fdb39-b775-452a-b2be-7c1ca7a3f07d",
   "metadata": {},
   "outputs": [],
   "source": [
    "import pyspark\n",
    "from pyspark.sql import SparkSession"
   ]
  },
  {
   "cell_type": "code",
   "execution_count": 2,
   "id": "5700eb3c-b728-4ae0-984f-c99d07e27b56",
   "metadata": {},
   "outputs": [
    {
     "name": "stderr",
     "output_type": "stream",
     "text": [
      "Setting default log level to \"WARN\".\n",
      "To adjust logging level use sc.setLogLevel(newLevel). For SparkR, use setLogLevel(newLevel).\n",
      "25/03/25 11:41:53 WARN NativeCodeLoader: Unable to load native-hadoop library for your platform... using builtin-java classes where applicable\n"
     ]
    }
   ],
   "source": [
    "spark = SparkSession.builder \\\n",
    "    .master(\"local[*]\") \\\n",
    "    .appName('test') \\\n",
    "    .getOrCreate()"
   ]
  },
  {
   "cell_type": "code",
   "execution_count": 3,
   "id": "15714588-a9ec-4d03-bc25-02f2dd32ef91",
   "metadata": {},
   "outputs": [
    {
     "data": {
      "text/plain": [
       "'http://de-zoomcamp.australia-southeast1-b.c.western-triode-447803-t3.internal:4040'"
      ]
     },
     "execution_count": 3,
     "metadata": {},
     "output_type": "execute_result"
    }
   ],
   "source": [
    "spark.sparkContext.uiWebUrl"
   ]
  },
  {
   "cell_type": "code",
   "execution_count": 8,
   "id": "0a598f20-ff96-4495-82f2-32561295c3bb",
   "metadata": {},
   "outputs": [
    {
     "name": "stdout",
     "output_type": "stream",
     "text": [
      "11160 domain_properties.csv\n"
     ]
    }
   ],
   "source": [
    "!wc -l domain_properties.csv"
   ]
  },
  {
   "cell_type": "code",
   "execution_count": 10,
   "id": "ebecedf8-2d39-43e5-a4cd-862fab0dc1fc",
   "metadata": {},
   "outputs": [
    {
     "name": "stderr",
     "output_type": "stream",
     "text": [
      "                                                                                \r"
     ]
    }
   ],
   "source": [
    "df = spark.read \\\n",
    "    .option(\"header\", \"true\") \\\n",
    "    .csv('domain_properties.csv')"
   ]
  },
  {
   "cell_type": "code",
   "execution_count": 13,
   "id": "c7b153f8-6863-4983-926c-77ef06449c82",
   "metadata": {},
   "outputs": [
    {
     "data": {
      "text/plain": [
       "StructType([StructField('price', StringType(), True), StructField('date_sold', StringType(), True), StructField('suburb', StringType(), True), StructField('num_bath', StringType(), True), StructField('num_bed', StringType(), True), StructField('num_parking', StringType(), True), StructField('property_size', StringType(), True), StructField('type', StringType(), True), StructField('suburb_population', StringType(), True), StructField('suburb_median_income', StringType(), True), StructField('suburb_sqkm', StringType(), True), StructField('suburb_lat', StringType(), True), StructField('suburb_lng', StringType(), True), StructField('suburb_elevation', StringType(), True), StructField('cash_rate', StringType(), True), StructField('property_inflation_index', StringType(), True), StructField('km_from_cbd', StringType(), True)])"
      ]
     },
     "execution_count": 13,
     "metadata": {},
     "output_type": "execute_result"
    }
   ],
   "source": [
    "df.schema"
   ]
  },
  {
   "cell_type": "code",
   "execution_count": 14,
   "id": "d2827410-190b-42f3-9b25-e2e888a8bc4c",
   "metadata": {},
   "outputs": [],
   "source": [
    "!head -n 1001 domain_properties.csv > head.csv"
   ]
  },
  {
   "cell_type": "code",
   "execution_count": 15,
   "id": "01738b23-a464-4d80-9579-2ffb6f953c3c",
   "metadata": {},
   "outputs": [],
   "source": [
    "import pandas as pd"
   ]
  },
  {
   "cell_type": "code",
   "execution_count": 16,
   "id": "0ac1e767-63d3-42ff-b70b-0646e0ca01f3",
   "metadata": {},
   "outputs": [],
   "source": [
    "df_pandas = pd.read_csv('head.csv')"
   ]
  },
  {
   "cell_type": "code",
   "execution_count": 17,
   "id": "55d17b16-2716-4f77-b0da-1984cfbefccf",
   "metadata": {},
   "outputs": [
    {
     "data": {
      "text/plain": [
       "price                         int64\n",
       "date_sold                    object\n",
       "suburb                       object\n",
       "num_bath                      int64\n",
       "num_bed                       int64\n",
       "num_parking                   int64\n",
       "property_size                 int64\n",
       "type                         object\n",
       "suburb_population             int64\n",
       "suburb_median_income          int64\n",
       "suburb_sqkm                 float64\n",
       "suburb_lat                  float64\n",
       "suburb_lng                  float64\n",
       "suburb_elevation              int64\n",
       "cash_rate                   float64\n",
       "property_inflation_index    float64\n",
       "km_from_cbd                 float64\n",
       "dtype: object"
      ]
     },
     "execution_count": 17,
     "metadata": {},
     "output_type": "execute_result"
    }
   ],
   "source": [
    "df_pandas.dtypes"
   ]
  },
  {
   "cell_type": "code",
   "execution_count": 18,
   "id": "c4815809-86ea-48e5-ad39-bfddffb35e03",
   "metadata": {},
   "outputs": [
    {
     "data": {
      "text/plain": [
       "StructType([StructField('price', LongType(), True), StructField('date_sold', StringType(), True), StructField('suburb', StringType(), True), StructField('num_bath', LongType(), True), StructField('num_bed', LongType(), True), StructField('num_parking', LongType(), True), StructField('property_size', LongType(), True), StructField('type', StringType(), True), StructField('suburb_population', LongType(), True), StructField('suburb_median_income', LongType(), True), StructField('suburb_sqkm', DoubleType(), True), StructField('suburb_lat', DoubleType(), True), StructField('suburb_lng', DoubleType(), True), StructField('suburb_elevation', LongType(), True), StructField('cash_rate', DoubleType(), True), StructField('property_inflation_index', DoubleType(), True), StructField('km_from_cbd', DoubleType(), True)])"
      ]
     },
     "execution_count": 18,
     "metadata": {},
     "output_type": "execute_result"
    }
   ],
   "source": [
    "spark.createDataFrame(df_pandas).schema"
   ]
  },
  {
   "cell_type": "code",
   "execution_count": 19,
   "id": "5062f5c4-eef7-4451-b30a-722fc04a3d17",
   "metadata": {},
   "outputs": [],
   "source": [
    "from pyspark.sql import types"
   ]
  },
  {
   "cell_type": "code",
   "execution_count": 28,
   "id": "66e198f1-47a6-4f3d-8cbb-0637a8862175",
   "metadata": {},
   "outputs": [],
   "source": [
    "schema = types.StructType([\n",
    "    types.StructField('price', types.StringType(), True), \n",
    "    types.StructField('date_sold', types.StringType(), True), \n",
    "    types.StructField('suburb', types.StringType(), True), \n",
    "    types.StructField('num_bath', types.IntegerType(), True), \n",
    "    types.StructField('num_bed', types.IntegerType(), True), \n",
    "    types.StructField('num_parking', types.IntegerType(), True), \n",
    "    types.StructField('property_size', types.IntegerType(), True), \n",
    "    types.StructField('type', types.StringType(), True), \n",
    "    types.StructField('suburb_population', types.IntegerType(), True), \n",
    "    types.StructField('suburb_median_income', types.IntegerType(), True), \n",
    "    types.StructField('suburb_sqkm', types.DoubleType(), True), \n",
    "    types.StructField('suburb_lat', types.DoubleType(), True), \n",
    "    types.StructField('suburb_lng', types.DoubleType(), True), \n",
    "    types.StructField('suburb_elevation', types.IntegerType(), True), \n",
    "    types.StructField('cash_rate', types.DoubleType(), True), \n",
    "    types.StructField('property_inflation_index', types.DoubleType(), True), \n",
    "    types.StructField('km_from_cbd', types.DoubleType(), True)\n",
    "])"
   ]
  },
  {
   "cell_type": "code",
   "execution_count": 29,
   "id": "382d77b4-9e4a-41ae-b94c-5526cdd1f3b0",
   "metadata": {},
   "outputs": [],
   "source": [
    "df = spark.read \\\n",
    "    .option(\"header\", \"true\") \\\n",
    "    .schema(schema) \\\n",
    "    .csv('domain_properties.csv')"
   ]
  },
  {
   "cell_type": "code",
   "execution_count": 30,
   "id": "25435086-8bd0-4666-a33b-eeca5da80c22",
   "metadata": {},
   "outputs": [],
   "source": [
    "df = df.repartition(24)"
   ]
  },
  {
   "cell_type": "code",
   "execution_count": 32,
   "id": "e1e2697a-524b-4765-b97a-a878d53cb229",
   "metadata": {},
   "outputs": [
    {
     "name": "stderr",
     "output_type": "stream",
     "text": [
      "                                                                                \r"
     ]
    }
   ],
   "source": [
    "df.write.parquet('domain2016-2021',mode='overwrite')"
   ]
  },
  {
   "cell_type": "code",
   "execution_count": 33,
   "id": "b27ee360-bb0e-4657-8f14-91b92a71220c",
   "metadata": {},
   "outputs": [],
   "source": [
    "df = spark.read.parquet('domain2016-2021')"
   ]
  },
  {
   "cell_type": "code",
   "execution_count": 34,
   "id": "bd4ce88a-2b36-4885-a0ef-996b97fd5191",
   "metadata": {},
   "outputs": [
    {
     "name": "stdout",
     "output_type": "stream",
     "text": [
      "root\n",
      " |-- price: string (nullable = true)\n",
      " |-- date_sold: string (nullable = true)\n",
      " |-- suburb: string (nullable = true)\n",
      " |-- num_bath: integer (nullable = true)\n",
      " |-- num_bed: integer (nullable = true)\n",
      " |-- num_parking: integer (nullable = true)\n",
      " |-- property_size: integer (nullable = true)\n",
      " |-- type: string (nullable = true)\n",
      " |-- suburb_population: integer (nullable = true)\n",
      " |-- suburb_median_income: integer (nullable = true)\n",
      " |-- suburb_sqkm: double (nullable = true)\n",
      " |-- suburb_lat: double (nullable = true)\n",
      " |-- suburb_lng: double (nullable = true)\n",
      " |-- suburb_elevation: integer (nullable = true)\n",
      " |-- cash_rate: double (nullable = true)\n",
      " |-- property_inflation_index: double (nullable = true)\n",
      " |-- km_from_cbd: double (nullable = true)\n",
      "\n"
     ]
    }
   ],
   "source": [
    "df.printSchema()"
   ]
  },
  {
   "cell_type": "code",
   "execution_count": 35,
   "id": "9c6c3325-6158-43d3-baaf-6e3dd0a0d096",
   "metadata": {},
   "outputs": [],
   "source": [
    "from pyspark.sql import functions as F"
   ]
  },
  {
   "cell_type": "code",
   "execution_count": 39,
   "id": "ac0e5801-2a45-4a97-bdf6-8dfee8ae90a2",
   "metadata": {},
   "outputs": [],
   "source": [
    "df = df.withColumn(\"date_sold\", F.to_date(F.col(\"date_sold\"), \"d/M/yy\"))"
   ]
  },
  {
   "cell_type": "code",
   "execution_count": 40,
   "id": "3967f563-ba38-411e-a6b1-567efc183d09",
   "metadata": {},
   "outputs": [
    {
     "name": "stdout",
     "output_type": "stream",
     "text": [
      "+-------+----------+----------------+--------+-------+-----------+-------------+--------------------+-----------------+--------------------+-----------+----------+----------+----------------+---------+------------------------+-----------+-------------+\n",
      "|  price| date_sold|          suburb|num_bath|num_bed|num_parking|property_size|                type|suburb_population|suburb_median_income|suburb_sqkm|suburb_lat|suburb_lng|suburb_elevation|cash_rate|property_inflation_index|km_from_cbd|date_sold_new|\n",
      "+-------+----------+----------------+--------+-------+-----------+-------------+--------------------+-----------------+--------------------+-----------+----------+----------+----------------+---------+------------------------+-----------+-------------+\n",
      "| 670000|2020-10-03|      Lalor Park|       1|      3|          4|          550|               House|             7667|               31200|      2.701| -33.76065| 150.93136|              77|     0.43|                   165.9|      28.27|   2020-10-03|\n",
      "|1450000|2021-11-10| Berowra Heights|       1|      3|          2|          696|               House|             5264|               42848|      8.004| -33.60156|   151.136|             197|      0.1|                   220.1|      30.03|   2021-11-10|\n",
      "|1501500|2021-10-07|            Ryde|       2|      2|          2|          601|               House|            26499|               39312|      7.096|  -33.8078| 151.11399|              58|      0.1|                   210.1|      10.92|   2021-10-07|\n",
      "|1165000|2020-02-14|           Menai|       2|      4|          3|          658|               House|            10304|               43836|     12.944|  -34.0025| 151.00275|              66|     0.75|                   169.6|      24.47|   2020-02-14|\n",
      "|2970000|2021-07-31|      Freshwater|       2|      3|          1|          597|               House|             8866|               57044|      1.782| -33.77603| 151.28481|              18|      0.1|                   210.1|      12.07|   2021-07-31|\n",
      "|1900000|2021-05-29|       Denistone|       2|      3|          2|          569|               Villa|             3751|               40040|      1.508| -33.79872| 151.08981|              58|      0.1|                   197.9|      13.34|   2021-05-29|\n",
      "| 485000|2017-07-21|         Toukley|       1|      3|          1|          506|               House|             4550|               25844|      3.683| -33.25799| 151.54324|               4|      1.5|                   174.2|      74.11|   2017-07-21|\n",
      "|2975000|2016-10-26|        Stanmore|       3|      4|          2|          668|               House|             7938|               55484|      1.218|  -33.8937| 151.16537|              29|      1.5|                   167.6|        5.2|   2016-10-26|\n",
      "|1400000|2021-03-30|      Crows Nest|       1|      2|          2|          143|Apartment / Unit ...|             4798|               70304|      0.762| -33.82557| 151.20362|              97|      0.1|                   197.9|       4.43|   2021-03-30|\n",
      "|1300000|2019-10-16|      Kellyville|       3|      4|          3|          640|               House|            27971|               46228|     18.645| -33.69583| 150.95622|              78|     0.76|                   166.4|      30.08|   2019-10-16|\n",
      "|3150000|2018-02-21|      Paddington|       2|      2|          2|          221|               House|            12911|               73944|      1.627| -33.88334| 151.22781|              53|      1.5|                   171.9|       2.61|   2018-02-21|\n",
      "|2205000|2021-06-30| Chittaway Point|       3|      5|          4|         1646|               House|              941|               34320|      1.624| -33.32251| 151.44816|               5|      0.1|                   210.1|      64.12|   2021-06-30|\n",
      "|1800000|2021-11-05|     Gladesville|       1|      3|          1|          467|               House|            11827|               48568|      3.507| -33.82789| 151.12645|              46|      0.1|                   197.9|       8.76|   2021-11-05|\n",
      "| 950000|2020-02-14|Kellyville Ridge|       2|      4|          1|          354|               House|            10468|               51532|      2.707| -33.70376| 150.92052|              72|     0.75|                   169.6|      32.23|   2020-02-14|\n",
      "| 610000|2021-02-22|    Mount Druitt|       2|      3|          2|          271|               House|            16726|               26000|      6.256| -33.76791|  150.8136|              48|      0.1|                   183.1|      38.24|   2021-02-22|\n",
      "|1520000|2019-11-09|       Hillsdale|       3|      6|          4|          414|               House|             5501|               34736|      0.546| -33.95297| 151.22753|              20|      1.0|                   166.4|       9.88|   2019-11-09|\n",
      "|1170000|2021-08-31|        Winmalee|       2|      4|          2|          733|               House|             6202|               38740|      9.058| -33.67971| 150.61119|             263|      0.1|                   210.1|      59.15|   2021-08-31|\n",
      "| 815000|2017-07-25|        Prospect|       3|      5|          2|          558|               House|             4716|               37544|     13.776| -33.81244| 150.90067|              57|      1.5|                   174.2|      29.21|   2017-07-25|\n",
      "| 955000|2016-10-15|        Lidcombe|       1|      3|          2|          417|               House|            19627|               27248|      6.805| -33.86491| 151.04789|              28|      1.5|                   167.6|      14.99|   2016-10-15|\n",
      "|2020000|2021-03-27|        Illawong|       3|      4|          2|          815|               House|             7271|               44096|       4.76| -33.99893| 151.04011|              79|      0.1|                   197.9|       21.6|   2021-03-27|\n",
      "+-------+----------+----------------+--------+-------+-----------+-------------+--------------------+-----------------+--------------------+-----------+----------+----------+----------------+---------+------------------------+-----------+-------------+\n",
      "only showing top 20 rows\n",
      "\n"
     ]
    }
   ],
   "source": [
    "df.show()"
   ]
  },
  {
   "cell_type": "code",
   "execution_count": null,
   "id": "29e07340-16dc-4233-b9e0-2b63ffa1acf1",
   "metadata": {},
   "outputs": [],
   "source": []
  }
 ],
 "metadata": {
  "kernelspec": {
   "display_name": "Python 3 (ipykernel)",
   "language": "python",
   "name": "python3"
  },
  "language_info": {
   "codemirror_mode": {
    "name": "ipython",
    "version": 3
   },
   "file_extension": ".py",
   "mimetype": "text/x-python",
   "name": "python",
   "nbconvert_exporter": "python",
   "pygments_lexer": "ipython3",
   "version": "3.12.2"
  }
 },
 "nbformat": 4,
 "nbformat_minor": 5
}
