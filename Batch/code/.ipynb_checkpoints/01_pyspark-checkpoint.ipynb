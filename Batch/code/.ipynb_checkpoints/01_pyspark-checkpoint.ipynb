{
 "cells": [
  {
   "cell_type": "code",
   "execution_count": 1,
   "id": "564fdb39-b775-452a-b2be-7c1ca7a3f07d",
   "metadata": {},
   "outputs": [],
   "source": [
    "import pyspark\n",
    "from pyspark.sql import SparkSession"
   ]
  },
  {
   "cell_type": "code",
   "execution_count": 2,
   "id": "5700eb3c-b728-4ae0-984f-c99d07e27b56",
   "metadata": {},
   "outputs": [
    {
     "name": "stderr",
     "output_type": "stream",
     "text": [
      "Setting default log level to \"WARN\".\n",
      "To adjust logging level use sc.setLogLevel(newLevel). For SparkR, use setLogLevel(newLevel).\n",
      "25/03/26 11:53:45 WARN NativeCodeLoader: Unable to load native-hadoop library for your platform... using builtin-java classes where applicable\n",
      "25/03/26 11:53:46 WARN Utils: Service 'SparkUI' could not bind on port 4040. Attempting port 4041.\n"
     ]
    }
   ],
   "source": [
    "spark = SparkSession.builder \\\n",
    "    .master(\"local[*]\") \\\n",
    "    .appName('test') \\\n",
    "    .getOrCreate()"
   ]
  },
  {
   "cell_type": "code",
   "execution_count": 3,
   "id": "15714588-a9ec-4d03-bc25-02f2dd32ef91",
   "metadata": {},
   "outputs": [
    {
     "data": {
      "text/plain": [
       "'http://de-zoomcamp.australia-southeast1-b.c.western-triode-447803-t3.internal:4041'"
      ]
     },
     "execution_count": 3,
     "metadata": {},
     "output_type": "execute_result"
    }
   ],
   "source": [
    "spark.sparkContext.uiWebUrl"
   ]
  },
  {
   "cell_type": "code",
   "execution_count": 4,
   "id": "0a598f20-ff96-4495-82f2-32561295c3bb",
   "metadata": {},
   "outputs": [
    {
     "name": "stdout",
     "output_type": "stream",
     "text": [
      "11160 domain_properties.csv\n"
     ]
    }
   ],
   "source": [
    "!wc -l domain_properties.csv"
   ]
  },
  {
   "cell_type": "code",
   "execution_count": 5,
   "id": "ebecedf8-2d39-43e5-a4cd-862fab0dc1fc",
   "metadata": {},
   "outputs": [
    {
     "name": "stderr",
     "output_type": "stream",
     "text": [
      "                                                                                \r"
     ]
    }
   ],
   "source": [
    "df = spark.read \\\n",
    "    .option(\"header\", \"true\") \\\n",
    "    .csv('domain_properties.csv')"
   ]
  },
  {
   "cell_type": "code",
   "execution_count": 6,
   "id": "c7b153f8-6863-4983-926c-77ef06449c82",
   "metadata": {},
   "outputs": [
    {
     "data": {
      "text/plain": [
       "StructType([StructField('price', StringType(), True), StructField('date_sold', StringType(), True), StructField('suburb', StringType(), True), StructField('num_bath', StringType(), True), StructField('num_bed', StringType(), True), StructField('num_parking', StringType(), True), StructField('property_size', StringType(), True), StructField('type', StringType(), True), StructField('suburb_population', StringType(), True), StructField('suburb_median_income', StringType(), True), StructField('suburb_sqkm', StringType(), True), StructField('suburb_lat', StringType(), True), StructField('suburb_lng', StringType(), True), StructField('suburb_elevation', StringType(), True), StructField('cash_rate', StringType(), True), StructField('property_inflation_index', StringType(), True), StructField('km_from_cbd', StringType(), True)])"
      ]
     },
     "execution_count": 6,
     "metadata": {},
     "output_type": "execute_result"
    }
   ],
   "source": [
    "df.schema"
   ]
  },
  {
   "cell_type": "code",
   "execution_count": 7,
   "id": "d2827410-190b-42f3-9b25-e2e888a8bc4c",
   "metadata": {},
   "outputs": [],
   "source": [
    "!head -n 1001 domain_properties.csv > head.csv"
   ]
  },
  {
   "cell_type": "code",
   "execution_count": 8,
   "id": "01738b23-a464-4d80-9579-2ffb6f953c3c",
   "metadata": {},
   "outputs": [],
   "source": [
    "import pandas as pd"
   ]
  },
  {
   "cell_type": "code",
   "execution_count": 9,
   "id": "0ac1e767-63d3-42ff-b70b-0646e0ca01f3",
   "metadata": {},
   "outputs": [],
   "source": [
    "df_pandas = pd.read_csv('head.csv')"
   ]
  },
  {
   "cell_type": "code",
   "execution_count": 10,
   "id": "55d17b16-2716-4f77-b0da-1984cfbefccf",
   "metadata": {},
   "outputs": [
    {
     "data": {
      "text/plain": [
       "price                         int64\n",
       "date_sold                    object\n",
       "suburb                       object\n",
       "num_bath                      int64\n",
       "num_bed                       int64\n",
       "num_parking                   int64\n",
       "property_size                 int64\n",
       "type                         object\n",
       "suburb_population             int64\n",
       "suburb_median_income          int64\n",
       "suburb_sqkm                 float64\n",
       "suburb_lat                  float64\n",
       "suburb_lng                  float64\n",
       "suburb_elevation              int64\n",
       "cash_rate                   float64\n",
       "property_inflation_index    float64\n",
       "km_from_cbd                 float64\n",
       "dtype: object"
      ]
     },
     "execution_count": 10,
     "metadata": {},
     "output_type": "execute_result"
    }
   ],
   "source": [
    "df_pandas.dtypes"
   ]
  },
  {
   "cell_type": "code",
   "execution_count": 11,
   "id": "c4815809-86ea-48e5-ad39-bfddffb35e03",
   "metadata": {},
   "outputs": [
    {
     "data": {
      "text/plain": [
       "StructType([StructField('price', LongType(), True), StructField('date_sold', StringType(), True), StructField('suburb', StringType(), True), StructField('num_bath', LongType(), True), StructField('num_bed', LongType(), True), StructField('num_parking', LongType(), True), StructField('property_size', LongType(), True), StructField('type', StringType(), True), StructField('suburb_population', LongType(), True), StructField('suburb_median_income', LongType(), True), StructField('suburb_sqkm', DoubleType(), True), StructField('suburb_lat', DoubleType(), True), StructField('suburb_lng', DoubleType(), True), StructField('suburb_elevation', LongType(), True), StructField('cash_rate', DoubleType(), True), StructField('property_inflation_index', DoubleType(), True), StructField('km_from_cbd', DoubleType(), True)])"
      ]
     },
     "execution_count": 11,
     "metadata": {},
     "output_type": "execute_result"
    }
   ],
   "source": [
    "spark.createDataFrame(df_pandas).schema"
   ]
  },
  {
   "cell_type": "code",
   "execution_count": 12,
   "id": "5062f5c4-eef7-4451-b30a-722fc04a3d17",
   "metadata": {},
   "outputs": [],
   "source": [
    "from pyspark.sql import types"
   ]
  },
  {
   "cell_type": "code",
   "execution_count": 13,
   "id": "66e198f1-47a6-4f3d-8cbb-0637a8862175",
   "metadata": {},
   "outputs": [],
   "source": [
    "schema = types.StructType([\n",
    "    types.StructField('price', types.StringType(), True), \n",
    "    types.StructField('date_sold', types.StringType(), True), \n",
    "    types.StructField('suburb', types.StringType(), True), \n",
    "    types.StructField('num_bath', types.IntegerType(), True), \n",
    "    types.StructField('num_bed', types.IntegerType(), True), \n",
    "    types.StructField('num_parking', types.IntegerType(), True), \n",
    "    types.StructField('property_size', types.IntegerType(), True), \n",
    "    types.StructField('type', types.StringType(), True), \n",
    "    types.StructField('suburb_population', types.IntegerType(), True), \n",
    "    types.StructField('suburb_median_income', types.IntegerType(), True), \n",
    "    types.StructField('suburb_sqkm', types.DoubleType(), True), \n",
    "    types.StructField('suburb_lat', types.DoubleType(), True), \n",
    "    types.StructField('suburb_lng', types.DoubleType(), True), \n",
    "    types.StructField('suburb_elevation', types.IntegerType(), True), \n",
    "    types.StructField('cash_rate', types.DoubleType(), True), \n",
    "    types.StructField('property_inflation_index', types.DoubleType(), True), \n",
    "    types.StructField('km_from_cbd', types.DoubleType(), True)\n",
    "])"
   ]
  },
  {
   "cell_type": "code",
   "execution_count": 14,
   "id": "382d77b4-9e4a-41ae-b94c-5526cdd1f3b0",
   "metadata": {},
   "outputs": [],
   "source": [
    "df = spark.read \\\n",
    "    .option(\"header\", \"true\") \\\n",
    "    .schema(schema) \\\n",
    "    .csv('domain_properties.csv')"
   ]
  },
  {
   "cell_type": "code",
   "execution_count": 15,
   "id": "9c6c3325-6158-43d3-baaf-6e3dd0a0d096",
   "metadata": {},
   "outputs": [],
   "source": [
    "from pyspark.sql import functions as F"
   ]
  },
  {
   "cell_type": "code",
   "execution_count": 16,
   "id": "ac0e5801-2a45-4a97-bdf6-8dfee8ae90a2",
   "metadata": {},
   "outputs": [],
   "source": [
    "df = df.withColumn(\"date_sold\", F.to_date(F.col(\"date_sold\"), \"d/M/yy\"))"
   ]
  },
  {
   "cell_type": "code",
   "execution_count": 17,
   "id": "3967f563-ba38-411e-a6b1-567efc183d09",
   "metadata": {},
   "outputs": [
    {
     "name": "stdout",
     "output_type": "stream",
     "text": [
      "+-------+----------+-------------+--------+-------+-----------+-------------+-----------+-----------------+--------------------+-----------+----------+----------+----------------+---------+------------------------+-----------+\n",
      "|  price| date_sold|       suburb|num_bath|num_bed|num_parking|property_size|       type|suburb_population|suburb_median_income|suburb_sqkm|suburb_lat|suburb_lng|suburb_elevation|cash_rate|property_inflation_index|km_from_cbd|\n",
      "+-------+----------+-------------+--------+-------+-----------+-------------+-----------+-----------------+--------------------+-----------+----------+----------+----------------+---------+------------------------+-----------+\n",
      "| 530000|2016-01-13|    Kincumber|       4|      4|          2|         1351|      House|             7093|               29432|      9.914| -33.47252| 151.40208|              24|      2.0|                   150.9|      47.05|\n",
      "| 525000|2016-01-13|   Halekulani|       2|      4|          2|          594|      House|             2538|               24752|      1.397| -33.21772| 151.55237|              23|      2.0|                   150.9|      78.54|\n",
      "| 480000|2016-01-13|Chittaway Bay|       2|      4|          2|          468|      House|             2028|               31668|      1.116| -33.32678| 151.44557|               3|      2.0|                   150.9|      63.59|\n",
      "| 452000|2016-01-13|      Leumeah|       1|      3|          1|          344|      House|             9835|               32292|      4.055| -34.05375| 150.83957|              81|      2.0|                   150.9|      40.12|\n",
      "| 365500|2016-01-13|  North Avoca|       0|      0|          0|         1850|Vacant land|             2200|               45084|      1.497| -33.45608| 151.43598|              18|      2.0|                   150.9|      49.98|\n",
      "| 550000|2016-01-15|    Kincumber|       1|      3|          1|          626|      House|             7093|               29432|      9.914| -33.47252| 151.40208|              24|      2.0|                   150.9|      47.05|\n",
      "| 535000|2016-01-15|    Bensville|       1|      3|          1|          556|      House|             2545|               36764|      4.925| -33.49914| 151.39045|              27|      2.0|                   150.9|      43.91|\n",
      "| 495000|2016-01-15|      Leumeah|       1|      3|          2|          582|      House|             9835|               32292|      4.055| -34.05375| 150.83957|              81|      2.0|                   150.9|      40.12|\n",
      "| 410000|2016-01-15|      Toukley|       1|      3|          3|          493|      House|             4550|               25844|      3.683| -33.25799| 151.54324|               4|      2.0|                   150.9|      74.11|\n",
      "| 242500|2016-01-15|     Winmalee|       0|      0|          0|         1248|Vacant land|             6202|               38740|      9.058| -33.67971| 150.61119|             263|      2.0|                   150.9|      59.15|\n",
      "|6500000|2016-01-16|  Point Clare|       1|      3|          2|          742|      House|             3731|               31772|      3.336| -33.44017| 151.31715|              62|      2.0|                   150.9|      48.17|\n",
      "| 890000|2016-01-18| Picnic Point|       2|      4|          3|          715|      House|             6160|               40560|      3.859| -33.97301| 151.00632|              33|      2.0|                   150.9|      22.31|\n",
      "| 533000|2016-01-18|       Whalan|       3|      4|          2|          695|      House|             5973|               24180|      2.429| -33.75572| 150.80361|              37|      2.0|                   150.9|      39.53|\n",
      "|1120500|2016-01-19|  North Rocks|       2|      4|          2|          904|      House|             7965|               40092|      5.462| -33.77572| 151.01474|              92|      2.0|                   150.9|      20.61|\n",
      "| 830000|2016-01-19|     Winmalee|       3|      6|          2|         2109|      House|             6202|               38740|      9.058| -33.67971| 150.61119|             263|      2.0|                   150.9|      59.15|\n",
      "| 675000|2016-01-19|    Bass Hill|       3|      3|          2|          263|  Townhouse|             9069|               24388|      2.929| -33.90028| 150.99309|              40|      2.0|                   150.9|      20.43|\n",
      "| 500000|2016-01-19|    Kincumber|       1|      3|          1|          791|      House|             7093|               29432|      9.914| -33.47252| 151.40208|              24|      2.0|                   150.9|      47.05|\n",
      "| 473000|2016-01-19|      Leumeah|       1|      3|          3|          581|      House|             9835|               32292|      4.055| -34.05375| 150.83957|              81|      2.0|                   150.9|      40.12|\n",
      "| 885000|2016-01-20| Picnic Point|       1|      3|          2|          557|Vacant land|             6160|               40560|      3.859| -33.97301| 151.00632|              33|      2.0|                   150.9|      22.31|\n",
      "| 625000|2016-01-20|Chittaway Bay|       2|      4|          2|          555|      House|             2028|               31668|      1.116| -33.32678| 151.44557|               3|      2.0|                   150.9|      63.59|\n",
      "+-------+----------+-------------+--------+-------+-----------+-------------+-----------+-----------------+--------------------+-----------+----------+----------+----------------+---------+------------------------+-----------+\n",
      "only showing top 20 rows\n",
      "\n"
     ]
    }
   ],
   "source": [
    "df.show()"
   ]
  },
  {
   "cell_type": "code",
   "execution_count": 18,
   "id": "25435086-8bd0-4666-a33b-eeca5da80c22",
   "metadata": {},
   "outputs": [],
   "source": [
    "df = df.repartition(24)"
   ]
  },
  {
   "cell_type": "code",
   "execution_count": 19,
   "id": "e1e2697a-524b-4765-b97a-a878d53cb229",
   "metadata": {},
   "outputs": [
    {
     "name": "stderr",
     "output_type": "stream",
     "text": [
      "                                                                                \r"
     ]
    }
   ],
   "source": [
    "df.write.parquet('domain2016-2021',mode='overwrite')"
   ]
  },
  {
   "cell_type": "code",
   "execution_count": 20,
   "id": "b27ee360-bb0e-4657-8f14-91b92a71220c",
   "metadata": {},
   "outputs": [],
   "source": [
    "df = spark.read.parquet('domain2016-2021')"
   ]
  },
  {
   "cell_type": "code",
   "execution_count": 21,
   "id": "bd4ce88a-2b36-4885-a0ef-996b97fd5191",
   "metadata": {},
   "outputs": [
    {
     "name": "stdout",
     "output_type": "stream",
     "text": [
      "root\n",
      " |-- price: string (nullable = true)\n",
      " |-- date_sold: date (nullable = true)\n",
      " |-- suburb: string (nullable = true)\n",
      " |-- num_bath: integer (nullable = true)\n",
      " |-- num_bed: integer (nullable = true)\n",
      " |-- num_parking: integer (nullable = true)\n",
      " |-- property_size: integer (nullable = true)\n",
      " |-- type: string (nullable = true)\n",
      " |-- suburb_population: integer (nullable = true)\n",
      " |-- suburb_median_income: integer (nullable = true)\n",
      " |-- suburb_sqkm: double (nullable = true)\n",
      " |-- suburb_lat: double (nullable = true)\n",
      " |-- suburb_lng: double (nullable = true)\n",
      " |-- suburb_elevation: integer (nullable = true)\n",
      " |-- cash_rate: double (nullable = true)\n",
      " |-- property_inflation_index: double (nullable = true)\n",
      " |-- km_from_cbd: double (nullable = true)\n",
      "\n"
     ]
    }
   ],
   "source": [
    "df.printSchema()"
   ]
  },
  {
   "cell_type": "code",
   "execution_count": null,
   "id": "29e07340-16dc-4233-b9e0-2b63ffa1acf1",
   "metadata": {},
   "outputs": [],
   "source": []
  }
 ],
 "metadata": {
  "kernelspec": {
   "display_name": "Python 3 (ipykernel)",
   "language": "python",
   "name": "python3"
  },
  "language_info": {
   "codemirror_mode": {
    "name": "ipython",
    "version": 3
   },
   "file_extension": ".py",
   "mimetype": "text/x-python",
   "name": "python",
   "nbconvert_exporter": "python",
   "pygments_lexer": "ipython3",
   "version": "3.12.2"
  }
 },
 "nbformat": 4,
 "nbformat_minor": 5
}
