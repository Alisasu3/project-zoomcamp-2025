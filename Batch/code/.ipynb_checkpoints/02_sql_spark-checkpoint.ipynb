{
 "cells": [
  {
   "cell_type": "code",
   "execution_count": 15,
   "id": "564fdb39-b775-452a-b2be-7c1ca7a3f07d",
   "metadata": {},
   "outputs": [],
   "source": [
    "import pyspark\n",
    "from pyspark.sql import SparkSession\n",
    "\n",
    "spark = SparkSession.builder \\\n",
    "    .master(\"local[*]\") \\\n",
    "    .appName('test') \\\n",
    "    .getOrCreate()"
   ]
  },
  {
   "cell_type": "code",
   "execution_count": 16,
   "id": "df29a721-d8a9-44a5-a1e6-ff2f3966c718",
   "metadata": {},
   "outputs": [],
   "source": [
    "df = spark.read.parquet('domain2016-2021/*')"
   ]
  },
  {
   "cell_type": "code",
   "execution_count": 17,
   "id": "46fd844b-474e-451c-8f82-2f4f21dc4279",
   "metadata": {},
   "outputs": [],
   "source": [
    "df = df.withColumnRenamed('price','price_sold')"
   ]
  },
  {
   "cell_type": "code",
   "execution_count": 18,
   "id": "432338f8-b4f4-4677-b112-e7784b94f716",
   "metadata": {},
   "outputs": [
    {
     "name": "stdout",
     "output_type": "stream",
     "text": [
      "root\n",
      " |-- price_sold: string (nullable = true)\n",
      " |-- date_sold: date (nullable = true)\n",
      " |-- suburb: string (nullable = true)\n",
      " |-- num_bath: integer (nullable = true)\n",
      " |-- num_bed: integer (nullable = true)\n",
      " |-- num_parking: integer (nullable = true)\n",
      " |-- property_size: integer (nullable = true)\n",
      " |-- type: string (nullable = true)\n",
      " |-- suburb_population: integer (nullable = true)\n",
      " |-- suburb_median_income: integer (nullable = true)\n",
      " |-- suburb_sqkm: double (nullable = true)\n",
      " |-- suburb_lat: double (nullable = true)\n",
      " |-- suburb_lng: double (nullable = true)\n",
      " |-- suburb_elevation: integer (nullable = true)\n",
      " |-- cash_rate: double (nullable = true)\n",
      " |-- property_inflation_index: double (nullable = true)\n",
      " |-- km_from_cbd: double (nullable = true)\n",
      "\n"
     ]
    }
   ],
   "source": [
    "df.printSchema()"
   ]
  },
  {
   "cell_type": "code",
   "execution_count": 19,
   "id": "9b8ff8e3-51a1-413f-b189-fd9bf0a76c3e",
   "metadata": {},
   "outputs": [],
   "source": [
    "df.registerTempTable('domain')"
   ]
  },
  {
   "cell_type": "code",
   "execution_count": 20,
   "id": "63b53873-c4ab-45d1-9164-74cb40935ea8",
   "metadata": {},
   "outputs": [
    {
     "name": "stdout",
     "output_type": "stream",
     "text": [
      "+--------------------+--------+\n",
      "|                type|count(1)|\n",
      "+--------------------+--------+\n",
      "|           Townhouse|     211|\n",
      "|       Semi-Detached|     170|\n",
      "|              Studio|       5|\n",
      "|            New land|       3|\n",
      "|               Villa|     114|\n",
      "|    Development Site|       7|\n",
      "|Apartment / Unit ...|     688|\n",
      "|               House|    9583|\n",
      "|New Apartments / ...|       9|\n",
      "|      Block of Units|      37|\n",
      "|    New House & Land|      15|\n",
      "|             Terrace|      63|\n",
      "|         Vacant land|     163|\n",
      "|Acreage / Semi-Rural|      21|\n",
      "|              Duplex|      67|\n",
      "|               Rural|       4|\n",
      "+--------------------+--------+\n",
      "\n"
     ]
    }
   ],
   "source": [
    "spark.sql(\"\"\"\n",
    "SELECT\n",
    "    type,\n",
    "    count(1)\n",
    "FROM\n",
    "    domain\n",
    "GROUP BY \n",
    "    type\n",
    "\"\"\").show()"
   ]
  },
  {
   "cell_type": "code",
   "execution_count": 24,
   "id": "c033240a-dcb5-428d-9abb-3ed79ad93c4b",
   "metadata": {},
   "outputs": [],
   "source": [
    "df_result = spark.sql(\"\"\"\n",
    "SELECT \n",
    "    -- Grouping \n",
    "    suburb,\n",
    "    type,\n",
    "    date_trunc('month', date_sold) AS month_sold,\n",
    " \n",
    "    -- Aggregation \n",
    "    AVG(price_sold) AS avg_price_sold,\n",
    "    count(1) AS quantity_sold,\n",
    "    AVG(suburb_population) AS suburb_population,\n",
    "    AVG(suburb_median_income) AS suburb_median_income,\n",
    "    AVG(cash_rate) AS cash_rate\n",
    "\n",
    "FROM\n",
    "    domain\n",
    "GROUP BY\n",
    "    1, 2, 3\n",
    "\"\"\")"
   ]
  },
  {
   "cell_type": "code",
   "execution_count": 25,
   "id": "2019693f-d6b2-4d33-a9c7-4b6adae4b6ff",
   "metadata": {},
   "outputs": [
    {
     "name": "stderr",
     "output_type": "stream",
     "text": [
      "[Stage 15:>                                                         (0 + 2) / 2]\r"
     ]
    },
    {
     "name": "stdout",
     "output_type": "stream",
     "text": [
      "+------------------+--------------------+-------------------+------------------+-------------+-----------------+--------------------+-------------------+\n",
      "|            suburb|                type|         month_sold|    avg_price_sold|quantity_sold|suburb_population|suburb_median_income|          cash_rate|\n",
      "+------------------+--------------------+-------------------+------------------+-------------+-----------------+--------------------+-------------------+\n",
      "|      Melrose Park|               House|2016-10-01 00:00:00|         2620000.0|            1|           1574.0|             41028.0|                1.5|\n",
      "|         Girraween|               House|2018-04-01 00:00:00|          695000.0|            1|           5590.0|             35152.0|                1.5|\n",
      "|             Menai|               House|2021-10-01 00:00:00|         1567000.0|            1|          10304.0|             43836.0|                0.1|\n",
      "|            Sydney|Apartment / Unit ...|2016-12-01 00:00:00|         2020000.0|            1|          17252.0|             35412.0|                1.5|\n",
      "|    Killarney Vale|               House|2016-02-01 00:00:00| 482666.6666666667|            3|           7216.0|             30108.0|                2.0|\n",
      "|         Brookvale|Apartment / Unit ...|2021-06-01 00:00:00|         1135000.0|            1|           3161.0|             47320.0|                0.1|\n",
      "|           Dee Why|               House|2019-12-01 00:00:00|         1745000.0|            1|          21518.0|             44980.0|               0.76|\n",
      "|  South Turramurra|               House|2021-02-01 00:00:00|1993666.6666666667|            3|           3084.0|             44772.0|0.10000000000000002|\n",
      "|   Point Frederick|               House|2020-01-01 00:00:00|         2325000.0|            1|           1927.0|             36868.0|               0.75|\n",
      "|             Erina|               House|2021-11-01 00:00:00|         1950000.0|            2|           4774.0|             28340.0|                0.1|\n",
      "|       North Avoca|               House|2021-08-01 00:00:00|1403333.3333333333|            3|           2200.0|             45084.0|0.10000000000000002|\n",
      "|           Penrith|Apartment / Unit ...|2020-07-01 00:00:00|          437500.0|            2|          13295.0|             32240.0|               0.25|\n",
      "|         Blacktown|               House|2021-11-01 00:00:00|1160428.5714285714|            7|          47176.0|             31980.0|0.09999999999999999|\n",
      "|        East Hills|               House|2021-10-01 00:00:00|         2230375.0|            4|           3206.0|             34268.0|                0.1|\n",
      "|          Westmead|               House|2021-11-01 00:00:00|         1583000.0|            1|          16309.0|             40040.0|                0.1|\n",
      "|          Sylvania|               Villa|2017-09-01 00:00:00|          777000.0|            1|          10479.0|             37284.0|                1.5|\n",
      "|          Glenwood|               House|2017-01-01 00:00:00|          955000.0|            3|          16130.0|             40820.0|                1.5|\n",
      "|West Pennant Hills|               House|2019-12-01 00:00:00|         1285000.0|            1|          16374.0|             45500.0|                1.5|\n",
      "|           Toukley|               House|2021-10-01 00:00:00|         1186174.0|            3|           4550.0|             25844.0|0.10000000000000002|\n",
      "|       Bella Vista|               House|2019-09-01 00:00:00|         1808000.0|            1|           7837.0|             43784.0|                1.0|\n",
      "+------------------+--------------------+-------------------+------------------+-------------+-----------------+--------------------+-------------------+\n",
      "only showing top 20 rows\n",
      "\n"
     ]
    },
    {
     "name": "stderr",
     "output_type": "stream",
     "text": [
      "                                                                                \r"
     ]
    }
   ],
   "source": [
    "df_result.show()"
   ]
  },
  {
   "cell_type": "code",
   "execution_count": 26,
   "id": "14960ed6-0b8e-4186-a5d4-7d068fd6a7b5",
   "metadata": {},
   "outputs": [
    {
     "name": "stderr",
     "output_type": "stream",
     "text": [
      "                                                                                \r"
     ]
    }
   ],
   "source": [
    "df_result.coalesce(1).write.parquet('domain2016-2021/report/',mode='overwrite')"
   ]
  },
  {
   "cell_type": "code",
   "execution_count": null,
   "id": "90e79775-e90c-425f-aabe-3e01d130b868",
   "metadata": {},
   "outputs": [],
   "source": []
  }
 ],
 "metadata": {
  "kernelspec": {
   "display_name": "Python 3 (ipykernel)",
   "language": "python",
   "name": "python3"
  },
  "language_info": {
   "codemirror_mode": {
    "name": "ipython",
    "version": 3
   },
   "file_extension": ".py",
   "mimetype": "text/x-python",
   "name": "python",
   "nbconvert_exporter": "python",
   "pygments_lexer": "ipython3",
   "version": "3.12.2"
  }
 },
 "nbformat": 4,
 "nbformat_minor": 5
}
